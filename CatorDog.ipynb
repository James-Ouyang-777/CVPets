{
 "cells": [
  {
   "cell_type": "code",
   "execution_count": 1,
   "id": "bd644de1",
   "metadata": {},
   "outputs": [],
   "source": [
    "import tensorflow\n",
    "from tensorflow import keras\n",
    "from keras.models import Sequential\n",
    "from keras.layers import Conv2D\n",
    "from keras.layers import MaxPooling2D\n",
    "from keras.layers import Flatten\n",
    "from keras.layers import Dense\n",
    "#import PIL\n"
   ]
  },
  {
   "cell_type": "code",
   "execution_count": 2,
   "id": "4de57e46",
   "metadata": {},
   "outputs": [],
   "source": [
    "# Initialising the CNN\n",
    "classifier = Sequential()\n",
    "# Convolution\n",
    "classifier.add(Conv2D(32, (3, 3), input_shape = (64, 64, 3), activation = 'relu'))\n",
    "# Pooling\n",
    "classifier.add(MaxPooling2D(pool_size = (2, 2)))\n",
    "# Adding a second convolutional layer\n",
    "classifier.add(Conv2D(32, (3, 3), activation = 'relu'))\n",
    "# second pooling layer\n",
    "classifier.add(MaxPooling2D(pool_size = (2, 2)))\n"
   ]
  },
  {
   "cell_type": "code",
   "execution_count": 3,
   "id": "6e0698c3",
   "metadata": {},
   "outputs": [],
   "source": [
    "# Step 3\n",
    "classifier.add(Flatten())\n",
    "\n",
    "# Step 4 \n",
    "classifier.add(Dense(units=128, activation = 'relu'))\n",
    "classifier.add(Dense(units=1, activation = 'sigmoid'))"
   ]
  },
  {
   "cell_type": "code",
   "execution_count": 4,
   "id": "1ae86a25",
   "metadata": {},
   "outputs": [],
   "source": [
    "# Compiling the CNN\n",
    "classifier.compile(optimizer = 'adam', loss = 'binary_crossentropy', metrics = ['accuracy'])"
   ]
  },
  {
   "cell_type": "code",
   "execution_count": 5,
   "id": "9eb54c8d",
   "metadata": {},
   "outputs": [],
   "source": [
    "from keras.preprocessing.image import ImageDataGenerator\n",
    "train_datagen = ImageDataGenerator(rescale = 1./255,\n",
    "shear_range = 0.2,\n",
    "zoom_range = 0.2,\n",
    "horizontal_flip = True)"
   ]
  },
  {
   "cell_type": "code",
   "execution_count": 6,
   "id": "efef12b0",
   "metadata": {},
   "outputs": [
    {
     "name": "stdout",
     "output_type": "stream",
     "text": [
      "Found 7989 images belonging to 2 classes.\n"
     ]
    }
   ],
   "source": [
    "training_set = train_datagen.flow_from_directory('dataset/training_set',\n",
    "                                                target_size = (64, 64),\n",
    "                                                batch_size = 32,\n",
    "                                                class_mode = 'binary')"
   ]
  },
  {
   "cell_type": "code",
   "execution_count": 7,
   "id": "767338c1",
   "metadata": {},
   "outputs": [
    {
     "name": "stdout",
     "output_type": "stream",
     "text": [
      "Found 2000 images belonging to 2 classes.\n"
     ]
    }
   ],
   "source": [
    "test_datagen = ImageDataGenerator(rescale = 1./255)\n",
    "test_set = train_datagen.flow_from_directory('dataset/test_set',\n",
    "                                            target_size = (64, 64),\n",
    "                                            batch_size = 32,\n",
    "                                            class_mode = 'binary')"
   ]
  },
  {
   "cell_type": "code",
   "execution_count": 8,
   "id": "41f961c4",
   "metadata": {},
   "outputs": [
    {
     "name": "stdout",
     "output_type": "stream",
     "text": [
      "Epoch 1/20\n",
      "250/250 [==============================] - 28s 110ms/step - loss: 0.6826 - accuracy: 0.5663 - val_loss: 0.6582 - val_accuracy: 0.6300\n",
      "Epoch 2/20\n",
      "250/250 [==============================] - 27s 109ms/step - loss: 0.6420 - accuracy: 0.6311 - val_loss: 0.6396 - val_accuracy: 0.6365\n",
      "Epoch 3/20\n",
      "250/250 [==============================] - 27s 109ms/step - loss: 0.6105 - accuracy: 0.6639 - val_loss: 0.5953 - val_accuracy: 0.6830\n",
      "Epoch 4/20\n",
      "250/250 [==============================] - 27s 109ms/step - loss: 0.5728 - accuracy: 0.6985 - val_loss: 0.5585 - val_accuracy: 0.7130\n",
      "Epoch 5/20\n",
      "250/250 [==============================] - 27s 109ms/step - loss: 0.5340 - accuracy: 0.7278 - val_loss: 0.5350 - val_accuracy: 0.7345\n",
      "Epoch 6/20\n",
      "250/250 [==============================] - 27s 109ms/step - loss: 0.5029 - accuracy: 0.7485 - val_loss: 0.5370 - val_accuracy: 0.7470\n",
      "Epoch 7/20\n",
      "250/250 [==============================] - 27s 109ms/step - loss: 0.4855 - accuracy: 0.7647 - val_loss: 0.5726 - val_accuracy: 0.7010\n",
      "Epoch 8/20\n",
      "250/250 [==============================] - 27s 109ms/step - loss: 0.4689 - accuracy: 0.7743 - val_loss: 0.5046 - val_accuracy: 0.7550\n",
      "Epoch 9/20\n",
      "250/250 [==============================] - 27s 110ms/step - loss: 0.4453 - accuracy: 0.7930 - val_loss: 0.4754 - val_accuracy: 0.7675\n",
      "Epoch 10/20\n",
      "250/250 [==============================] - 28s 111ms/step - loss: 0.4363 - accuracy: 0.7996 - val_loss: 0.4720 - val_accuracy: 0.7760\n",
      "Epoch 11/20\n",
      "250/250 [==============================] - 27s 110ms/step - loss: 0.4056 - accuracy: 0.8107 - val_loss: 0.4955 - val_accuracy: 0.7705\n",
      "Epoch 12/20\n",
      "250/250 [==============================] - 27s 109ms/step - loss: 0.3935 - accuracy: 0.8204 - val_loss: 0.4753 - val_accuracy: 0.7850\n",
      "Epoch 13/20\n",
      "250/250 [==============================] - 27s 110ms/step - loss: 0.3807 - accuracy: 0.8285 - val_loss: 0.4795 - val_accuracy: 0.7795\n",
      "Epoch 14/20\n",
      "250/250 [==============================] - 27s 109ms/step - loss: 0.3649 - accuracy: 0.8388 - val_loss: 0.4647 - val_accuracy: 0.7885\n",
      "Epoch 15/20\n",
      "250/250 [==============================] - 27s 110ms/step - loss: 0.3434 - accuracy: 0.8533 - val_loss: 0.4917 - val_accuracy: 0.7690\n",
      "Epoch 16/20\n",
      "250/250 [==============================] - 27s 109ms/step - loss: 0.3299 - accuracy: 0.8557 - val_loss: 0.4940 - val_accuracy: 0.7795\n",
      "Epoch 17/20\n",
      "250/250 [==============================] - 27s 109ms/step - loss: 0.3104 - accuracy: 0.8696 - val_loss: 0.5164 - val_accuracy: 0.7765\n",
      "Epoch 18/20\n",
      "250/250 [==============================] - 28s 111ms/step - loss: 0.2908 - accuracy: 0.8733 - val_loss: 0.4695 - val_accuracy: 0.7990\n",
      "Epoch 19/20\n",
      "250/250 [==============================] - 29s 116ms/step - loss: 0.2882 - accuracy: 0.8782 - val_loss: 0.4836 - val_accuracy: 0.7905\n",
      "Epoch 20/20\n",
      "250/250 [==============================] - 29s 114ms/step - loss: 0.2548 - accuracy: 0.8944 - val_loss: 0.5112 - val_accuracy: 0.7855\n"
     ]
    },
    {
     "data": {
      "text/plain": [
       "<keras.callbacks.History at 0x16ced827bb0>"
      ]
     },
     "execution_count": 8,
     "metadata": {},
     "output_type": "execute_result"
    }
   ],
   "source": [
    "#TRAINING\n",
    "\n",
    "classifier.fit(training_set,\n",
    "                        #steps_per_epoch = 24,\n",
    "                        epochs = 20,\n",
    "                        validation_data = test_set,\n",
    "                        #validation_steps = 50\n",
    "              )"
   ]
  },
  {
   "cell_type": "code",
   "execution_count": 44,
   "id": "0d2c4d52",
   "metadata": {},
   "outputs": [
    {
     "name": "stdout",
     "output_type": "stream",
     "text": [
      "[[1.]]\n",
      "dog\n"
     ]
    }
   ],
   "source": [
    "import numpy as np\n",
    "from keras.preprocessing import image\n",
    "test_image = image.load_img('dataset/single_prediction/mango.jpg', target_size = (64, 64))\n",
    "test_image = image.img_to_array(test_image)\n",
    "test_image = np.expand_dims(test_image, axis = 0)\n",
    "result = classifier.predict(test_image)\n",
    "training_set.class_indices\n",
    "print(result)\n",
    "if result[0][0] == 1:\n",
    "    prediction = 'dog'\n",
    "else:\n",
    "    prediction = 'cat'\n",
    "print(prediction)\n",
    "\n"
   ]
  },
  {
   "cell_type": "code",
   "execution_count": 10,
   "id": "e2ec9aed",
   "metadata": {},
   "outputs": [
    {
     "name": "stdout",
     "output_type": "stream",
     "text": [
      "Saved model to disk\n"
     ]
    }
   ],
   "source": [
    "model_json = classifier.to_json()\n",
    "with open(\"model.json\", \"w\") as json_file:\n",
    "    json_file.write(model_json)\n",
    "# serialize weights to HDF5\n",
    "classifier.save_weights(\"model.h5\")\n",
    "print(\"Saved model to disk\")"
   ]
  },
  {
   "cell_type": "code",
   "execution_count": 11,
   "id": "c4d3fa7d",
   "metadata": {},
   "outputs": [
    {
     "ename": "NameError",
     "evalue": "name 'model_from_json' is not defined",
     "output_type": "error",
     "traceback": [
      "\u001b[1;31m---------------------------------------------------------------------------\u001b[0m",
      "\u001b[1;31mNameError\u001b[0m                                 Traceback (most recent call last)",
      "\u001b[1;32m~\\AppData\\Local\\Temp/ipykernel_22536/3277154696.py\u001b[0m in \u001b[0;36m<module>\u001b[1;34m\u001b[0m\n\u001b[0;32m      5\u001b[0m \u001b[0mloaded_model_json\u001b[0m \u001b[1;33m=\u001b[0m \u001b[0mjson_file\u001b[0m\u001b[1;33m.\u001b[0m\u001b[0mread\u001b[0m\u001b[1;33m(\u001b[0m\u001b[1;33m)\u001b[0m\u001b[1;33m\u001b[0m\u001b[1;33m\u001b[0m\u001b[0m\n\u001b[0;32m      6\u001b[0m \u001b[0mjson_file\u001b[0m\u001b[1;33m.\u001b[0m\u001b[0mclose\u001b[0m\u001b[1;33m(\u001b[0m\u001b[1;33m)\u001b[0m\u001b[1;33m\u001b[0m\u001b[1;33m\u001b[0m\u001b[0m\n\u001b[1;32m----> 7\u001b[1;33m \u001b[0mclassifier\u001b[0m \u001b[1;33m=\u001b[0m \u001b[0mmodel_from_json\u001b[0m\u001b[1;33m(\u001b[0m\u001b[0mloaded_model_json\u001b[0m\u001b[1;33m)\u001b[0m\u001b[1;33m\u001b[0m\u001b[1;33m\u001b[0m\u001b[0m\n\u001b[0m\u001b[0;32m      8\u001b[0m \u001b[1;31m# load weights into new model\u001b[0m\u001b[1;33m\u001b[0m\u001b[1;33m\u001b[0m\u001b[0m\n\u001b[0;32m      9\u001b[0m \u001b[0mclassifier\u001b[0m\u001b[1;33m.\u001b[0m\u001b[0mload_weights\u001b[0m\u001b[1;33m(\u001b[0m\u001b[1;34m\"model.h5\"\u001b[0m\u001b[1;33m)\u001b[0m\u001b[1;33m\u001b[0m\u001b[1;33m\u001b[0m\u001b[0m\n",
      "\u001b[1;31mNameError\u001b[0m: name 'model_from_json' is not defined"
     ]
    }
   ],
   "source": [
    "# later...\n",
    " \n",
    "# load json and create model\n",
    "json_file = open('model.json', 'r')\n",
    "loaded_model_json = json_file.read()\n",
    "json_file.close()\n",
    "classifier = model_from_json(loaded_model_json)\n",
    "# load weights into new model\n",
    "classifier.load_weights(\"model.h5\")\n",
    "print(\"Loaded model from disk\")"
   ]
  },
  {
   "cell_type": "code",
   "execution_count": null,
   "id": "bb38bf2f",
   "metadata": {},
   "outputs": [],
   "source": []
  }
 ],
 "metadata": {
  "kernelspec": {
   "display_name": "Python 3 (ipykernel)",
   "language": "python",
   "name": "python3"
  },
  "language_info": {
   "codemirror_mode": {
    "name": "ipython",
    "version": 3
   },
   "file_extension": ".py",
   "mimetype": "text/x-python",
   "name": "python",
   "nbconvert_exporter": "python",
   "pygments_lexer": "ipython3",
   "version": "3.9.7"
  }
 },
 "nbformat": 4,
 "nbformat_minor": 5
}
