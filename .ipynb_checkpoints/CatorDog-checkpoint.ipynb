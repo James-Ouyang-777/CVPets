{
 "cells": [
  {
   "cell_type": "code",
   "execution_count": 1,
   "id": "bd644de1",
   "metadata": {},
   "outputs": [],
   "source": [
    "import tensorflow\n",
    "from tensorflow import keras\n",
    "from keras.models import Sequential\n",
    "from keras.layers import Conv2D\n",
    "from keras.layers import MaxPooling2D\n",
    "from keras.layers import Flatten\n",
    "from keras.layers import Dense\n",
    "#import PIL\n"
   ]
  },
  {
   "cell_type": "code",
   "execution_count": 2,
   "id": "4de57e46",
   "metadata": {},
   "outputs": [],
   "source": [
    "# Initialising the CNN\n",
    "classifier = Sequential()\n",
    "# Convolution\n",
    "classifier.add(Conv2D(32, (3, 3), input_shape = (64, 64, 3), activation = 'relu'))\n",
    "# Pooling\n",
    "classifier.add(MaxPooling2D(pool_size = (2, 2)))\n",
    "# Adding a second convolutional layer\n",
    "classifier.add(Conv2D(32, (3, 3), activation = 'relu'))\n",
    "# second pooling layer\n",
    "classifier.add(MaxPooling2D(pool_size = (2, 2)))\n"
   ]
  },
  {
   "cell_type": "code",
   "execution_count": 3,
   "id": "6e0698c3",
   "metadata": {},
   "outputs": [],
   "source": [
    "# Step 3\n",
    "classifier.add(Flatten())\n",
    "\n",
    "# Step 4 \n",
    "classifier.add(Dense(units=128, activation = 'relu'))\n",
    "classifier.add(Dense(units=1, activation = 'sigmoid'))"
   ]
  },
  {
   "cell_type": "code",
   "execution_count": 4,
   "id": "1ae86a25",
   "metadata": {},
   "outputs": [],
   "source": [
    "# Compiling the CNN\n",
    "classifier.compile(optimizer = 'adam', loss = 'binary_crossentropy', metrics = ['accuracy'])"
   ]
  },
  {
   "cell_type": "code",
   "execution_count": 5,
   "id": "9eb54c8d",
   "metadata": {},
   "outputs": [],
   "source": [
    "from keras.preprocessing.image import ImageDataGenerator\n",
    "train_datagen = ImageDataGenerator(rescale = 1./255,\n",
    "shear_range = 0.2,\n",
    "zoom_range = 0.2,\n",
    "horizontal_flip = True)"
   ]
  },
  {
   "cell_type": "code",
   "execution_count": 6,
   "id": "efef12b0",
   "metadata": {},
   "outputs": [
    {
     "name": "stdout",
     "output_type": "stream",
     "text": [
      "Found 7988 images belonging to 2 classes.\n"
     ]
    }
   ],
   "source": [
    "training_set = train_datagen.flow_from_directory('dataset/training_set',\n",
    "                                                target_size = (64, 64),\n",
    "                                                batch_size = 32,\n",
    "                                                class_mode = 'binary')"
   ]
  },
  {
   "cell_type": "code",
   "execution_count": 7,
   "id": "767338c1",
   "metadata": {},
   "outputs": [
    {
     "name": "stdout",
     "output_type": "stream",
     "text": [
      "Found 2000 images belonging to 2 classes.\n"
     ]
    }
   ],
   "source": [
    "test_datagen = ImageDataGenerator(rescale = 1./255)\n",
    "test_set = train_datagen.flow_from_directory('dataset/test_set',\n",
    "                                            target_size = (64, 64),\n",
    "                                            batch_size = 32,\n",
    "                                            class_mode = 'binary')"
   ]
  },
  {
   "cell_type": "code",
   "execution_count": 8,
   "id": "41f961c4",
   "metadata": {},
   "outputs": [
    {
     "name": "stdout",
     "output_type": "stream",
     "text": [
      "Epoch 1/20\n",
      "250/250 [==============================] - 63s 251ms/step - loss: 0.6532 - accuracy: 0.6079 - val_loss: 0.6095 - val_accuracy: 0.6715\n",
      "Epoch 2/20\n",
      "250/250 [==============================] - 27s 110ms/step - loss: 0.5927 - accuracy: 0.6771 - val_loss: 0.5550 - val_accuracy: 0.7170\n",
      "Epoch 3/20\n",
      "250/250 [==============================] - 28s 110ms/step - loss: 0.5460 - accuracy: 0.7208 - val_loss: 0.5395 - val_accuracy: 0.7185\n",
      "Epoch 4/20\n",
      "250/250 [==============================] - 28s 113ms/step - loss: 0.5274 - accuracy: 0.7394 - val_loss: 0.5307 - val_accuracy: 0.7465\n",
      "Epoch 5/20\n",
      "250/250 [==============================] - 28s 110ms/step - loss: 0.5016 - accuracy: 0.7544 - val_loss: 0.5292 - val_accuracy: 0.7460\n",
      "Epoch 6/20\n",
      "250/250 [==============================] - 28s 111ms/step - loss: 0.4831 - accuracy: 0.7689 - val_loss: 0.4924 - val_accuracy: 0.7730\n",
      "Epoch 7/20\n",
      "250/250 [==============================] - 28s 113ms/step - loss: 0.4689 - accuracy: 0.7762 - val_loss: 0.4861 - val_accuracy: 0.7790\n",
      "Epoch 8/20\n",
      "250/250 [==============================] - 27s 110ms/step - loss: 0.4561 - accuracy: 0.7814 - val_loss: 0.4766 - val_accuracy: 0.7760\n",
      "Epoch 9/20\n",
      "250/250 [==============================] - 28s 110ms/step - loss: 0.4495 - accuracy: 0.7851 - val_loss: 0.4764 - val_accuracy: 0.7745\n",
      "Epoch 10/20\n",
      "250/250 [==============================] - 27s 110ms/step - loss: 0.4322 - accuracy: 0.7963 - val_loss: 0.4590 - val_accuracy: 0.8025\n",
      "Epoch 11/20\n",
      "250/250 [==============================] - 27s 110ms/step - loss: 0.4220 - accuracy: 0.8030 - val_loss: 0.4782 - val_accuracy: 0.7775\n",
      "Epoch 12/20\n",
      "250/250 [==============================] - 28s 110ms/step - loss: 0.4090 - accuracy: 0.8066 - val_loss: 0.4639 - val_accuracy: 0.7810\n",
      "Epoch 13/20\n",
      "250/250 [==============================] - 27s 110ms/step - loss: 0.3970 - accuracy: 0.8170 - val_loss: 0.4787 - val_accuracy: 0.7795\n",
      "Epoch 14/20\n",
      "250/250 [==============================] - 27s 109ms/step - loss: 0.3856 - accuracy: 0.8267 - val_loss: 0.4824 - val_accuracy: 0.7830\n",
      "Epoch 15/20\n",
      "250/250 [==============================] - 27s 109ms/step - loss: 0.3810 - accuracy: 0.8220 - val_loss: 0.4779 - val_accuracy: 0.7850\n",
      "Epoch 16/20\n",
      "250/250 [==============================] - 27s 110ms/step - loss: 0.3598 - accuracy: 0.8371 - val_loss: 0.4778 - val_accuracy: 0.7925\n",
      "Epoch 17/20\n",
      "250/250 [==============================] - 27s 109ms/step - loss: 0.3534 - accuracy: 0.8429 - val_loss: 0.4689 - val_accuracy: 0.7925\n",
      "Epoch 18/20\n",
      "250/250 [==============================] - 27s 110ms/step - loss: 0.3414 - accuracy: 0.8468 - val_loss: 0.4985 - val_accuracy: 0.7765\n",
      "Epoch 19/20\n",
      "250/250 [==============================] - 27s 110ms/step - loss: 0.3290 - accuracy: 0.8515 - val_loss: 0.5040 - val_accuracy: 0.7785\n",
      "Epoch 20/20\n",
      "250/250 [==============================] - 27s 109ms/step - loss: 0.3220 - accuracy: 0.8613 - val_loss: 0.4895 - val_accuracy: 0.7990\n"
     ]
    },
    {
     "data": {
      "text/plain": [
       "<keras.callbacks.History at 0x1c2467ecee0>"
      ]
     },
     "execution_count": 8,
     "metadata": {},
     "output_type": "execute_result"
    }
   ],
   "source": [
    "#TRAINING\n",
    "\n",
    "classifier.fit(training_set,\n",
    "                        #steps_per_epoch = 24,\n",
    "                        epochs = 20,\n",
    "                        validation_data = test_set,\n",
    "                        #validation_steps = 50\n",
    "              )"
   ]
  },
  {
   "cell_type": "code",
   "execution_count": 14,
   "id": "0d2c4d52",
   "metadata": {},
   "outputs": [
    {
     "name": "stdout",
     "output_type": "stream",
     "text": [
      "[[0.]]\n",
      "cat\n"
     ]
    }
   ],
   "source": [
    "import numpy as np\n",
    "from keras.preprocessing import image\n",
    "test_image = image.load_img('dataset/single_prediction/cat_or_dog_1.jpg', target_size = (64, 64))\n",
    "test_image = image.img_to_array(test_image)\n",
    "test_image = np.expand_dims(test_image, axis = 0)\n",
    "result = classifier.predict(test_image)\n",
    "training_set.class_indices\n",
    "print(result)\n",
    "if result[0][0] == 1:\n",
    "    prediction = 'dog'\n",
    "else:\n",
    "    prediction = 'cat'\n",
    "print(prediction)\n",
    "\n"
   ]
  },
  {
   "cell_type": "code",
   "execution_count": 10,
   "id": "e2ec9aed",
   "metadata": {},
   "outputs": [
    {
     "name": "stdout",
     "output_type": "stream",
     "text": [
      "Saved model to disk\n"
     ]
    }
   ],
   "source": [
    "model_json = classifier.to_json()\n",
    "with open(\"model.json\", \"w\") as json_file:\n",
    "    json_file.write(model_json)\n",
    "# serialize weights to HDF5\n",
    "classifier.save_weights(\"model.h5\")\n",
    "print(\"Saved model to disk\")"
   ]
  },
  {
   "cell_type": "code",
   "execution_count": null,
   "id": "bc48809e",
   "metadata": {},
   "outputs": [],
   "source": [
    "# later...\n",
    " \n",
    "# load json and create model\n",
    "json_file = open('model.json', 'r')\n",
    "loaded_model_json = json_file.read()\n",
    "json_file.close()\n",
    "classifier = model_from_json(loaded_model_json)\n",
    "# load weights into new model\n",
    "classifier.load_weights(\"model.h5\")\n",
    "print(\"Loaded model from disk\")"
   ]
  }
 ],
 "metadata": {
  "kernelspec": {
   "display_name": "Python 3 (ipykernel)",
   "language": "python",
   "name": "python3"
  },
  "language_info": {
   "codemirror_mode": {
    "name": "ipython",
    "version": 3
   },
   "file_extension": ".py",
   "mimetype": "text/x-python",
   "name": "python",
   "nbconvert_exporter": "python",
   "pygments_lexer": "ipython3",
   "version": "3.9.7"
  }
 },
 "nbformat": 4,
 "nbformat_minor": 5
}
