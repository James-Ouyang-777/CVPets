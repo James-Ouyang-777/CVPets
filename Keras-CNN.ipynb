{
 "cells": [
  {
   "cell_type": "code",
   "execution_count": 1,
   "id": "bd644de1",
   "metadata": {},
   "outputs": [],
   "source": [
    "import tensorflow\n",
    "from tensorflow import keras\n",
    "from keras.models import Sequential\n",
    "from keras.layers import Conv2D\n",
    "from keras.layers import MaxPooling2D\n",
    "from keras.layers import Flatten\n",
    "from keras.layers import Dense\n",
    "#import PIL\n"
   ]
  },
  {
   "cell_type": "code",
   "execution_count": 2,
   "id": "4de57e46",
   "metadata": {},
   "outputs": [],
   "source": [
    "# Initialising the CNN\n",
    "classifier = Sequential()\n",
    "# Convolution\n",
    "classifier.add(Conv2D(32, (3, 3), input_shape = (64, 64, 3), activation = 'relu'))\n",
    "# Pooling\n",
    "classifier.add(MaxPooling2D(pool_size = (2, 2)))\n",
    "# Adding a second convolutional layer\n",
    "classifier.add(Conv2D(32, (3, 3), activation = 'relu'))\n",
    "# second pooling layer\n",
    "classifier.add(MaxPooling2D(pool_size = (2, 2)))\n"
   ]
  },
  {
   "cell_type": "code",
   "execution_count": 3,
   "id": "6e0698c3",
   "metadata": {},
   "outputs": [],
   "source": [
    "# Step 3\n",
    "classifier.add(Flatten())\n",
    "\n",
    "# Step 4 \n",
    "classifier.add(Dense(units=128, activation = 'relu'))\n",
    "classifier.add(Dense(units=1, activation = 'sigmoid'))"
   ]
  },
  {
   "cell_type": "code",
   "execution_count": 4,
   "id": "1ae86a25",
   "metadata": {},
   "outputs": [],
   "source": [
    "# Compiling the CNN\n",
    "classifier.compile(optimizer = 'adam', loss = 'binary_crossentropy', metrics = ['accuracy'])"
   ]
  },
  {
   "cell_type": "code",
   "execution_count": 5,
   "id": "9eb54c8d",
   "metadata": {},
   "outputs": [],
   "source": [
    "from keras.preprocessing.image import ImageDataGenerator\n",
    "train_datagen = ImageDataGenerator(rescale = 1./255,\n",
    "shear_range = 0.2,\n",
    "zoom_range = 0.2,\n",
    "horizontal_flip = True)"
   ]
  },
  {
   "cell_type": "code",
   "execution_count": 6,
   "id": "efef12b0",
   "metadata": {},
   "outputs": [
    {
     "name": "stdout",
     "output_type": "stream",
     "text": [
      "Found 7988 images belonging to 2 classes.\n"
     ]
    }
   ],
   "source": [
    "training_set = train_datagen.flow_from_directory('dataset/training_set',\n",
    "                                                target_size = (64, 64),\n",
    "                                                batch_size = 32,\n",
    "                                                class_mode = 'binary')"
   ]
  },
  {
   "cell_type": "code",
   "execution_count": 7,
   "id": "767338c1",
   "metadata": {},
   "outputs": [
    {
     "name": "stdout",
     "output_type": "stream",
     "text": [
      "Found 2000 images belonging to 2 classes.\n"
     ]
    }
   ],
   "source": [
    "test_datagen = ImageDataGenerator(rescale = 1./255)\n",
    "test_set = train_datagen.flow_from_directory('dataset/test_set',\n",
    "                                            target_size = (64, 64),\n",
    "                                            batch_size = 32,\n",
    "                                            class_mode = 'binary')"
   ]
  },
  {
   "cell_type": "code",
   "execution_count": 12,
   "id": "41f961c4",
   "metadata": {},
   "outputs": [
    {
     "name": "stdout",
     "output_type": "stream",
     "text": [
      "Epoch 1/20\n",
      "250/250 [==============================] - 28s 112ms/step - loss: 0.5396 - accuracy: 0.7297 - val_loss: 0.5410 - val_accuracy: 0.7325\n",
      "Epoch 2/20\n",
      "250/250 [==============================] - 28s 113ms/step - loss: 0.5159 - accuracy: 0.7456 - val_loss: 0.5867 - val_accuracy: 0.6795\n",
      "Epoch 3/20\n",
      "250/250 [==============================] - 28s 114ms/step - loss: 0.4827 - accuracy: 0.7659 - val_loss: 0.5660 - val_accuracy: 0.7230\n",
      "Epoch 4/20\n",
      "250/250 [==============================] - 28s 111ms/step - loss: 0.4711 - accuracy: 0.7729 - val_loss: 0.5064 - val_accuracy: 0.7550\n",
      "Epoch 5/20\n",
      "250/250 [==============================] - 28s 111ms/step - loss: 0.4596 - accuracy: 0.7832 - val_loss: 0.4693 - val_accuracy: 0.7705\n",
      "Epoch 6/20\n",
      "250/250 [==============================] - 28s 111ms/step - loss: 0.4300 - accuracy: 0.7971 - val_loss: 0.4987 - val_accuracy: 0.7675\n",
      "Epoch 7/20\n",
      "250/250 [==============================] - 28s 111ms/step - loss: 0.4303 - accuracy: 0.7981 - val_loss: 0.4596 - val_accuracy: 0.7870\n",
      "Epoch 8/20\n",
      "250/250 [==============================] - 28s 111ms/step - loss: 0.4054 - accuracy: 0.8147 - val_loss: 0.4720 - val_accuracy: 0.7745\n",
      "Epoch 9/20\n",
      "250/250 [==============================] - 28s 111ms/step - loss: 0.3914 - accuracy: 0.8211 - val_loss: 0.4412 - val_accuracy: 0.8005\n",
      "Epoch 10/20\n",
      "250/250 [==============================] - 28s 111ms/step - loss: 0.3778 - accuracy: 0.8264 - val_loss: 0.4798 - val_accuracy: 0.7725\n",
      "Epoch 11/20\n",
      "250/250 [==============================] - 28s 111ms/step - loss: 0.3633 - accuracy: 0.8404 - val_loss: 0.4493 - val_accuracy: 0.7975\n",
      "Epoch 12/20\n",
      "250/250 [==============================] - 28s 112ms/step - loss: 0.3574 - accuracy: 0.8355 - val_loss: 0.4555 - val_accuracy: 0.7940\n",
      "Epoch 13/20\n",
      "250/250 [==============================] - 28s 111ms/step - loss: 0.3378 - accuracy: 0.8524 - val_loss: 0.4534 - val_accuracy: 0.8040\n",
      "Epoch 14/20\n",
      "250/250 [==============================] - 28s 111ms/step - loss: 0.3306 - accuracy: 0.8553 - val_loss: 0.4681 - val_accuracy: 0.7835\n",
      "Epoch 15/20\n",
      "250/250 [==============================] - 28s 112ms/step - loss: 0.3233 - accuracy: 0.8597 - val_loss: 0.4618 - val_accuracy: 0.7900\n",
      "Epoch 16/20\n",
      "250/250 [==============================] - 28s 110ms/step - loss: 0.2985 - accuracy: 0.8746 - val_loss: 0.4798 - val_accuracy: 0.7960\n",
      "Epoch 17/20\n",
      "250/250 [==============================] - 27s 109ms/step - loss: 0.2870 - accuracy: 0.8794 - val_loss: 0.4584 - val_accuracy: 0.8025\n",
      "Epoch 18/20\n",
      "250/250 [==============================] - 27s 109ms/step - loss: 0.2804 - accuracy: 0.8806 - val_loss: 0.4941 - val_accuracy: 0.7870\n",
      "Epoch 19/20\n",
      "250/250 [==============================] - 28s 111ms/step - loss: 0.2651 - accuracy: 0.8848 - val_loss: 0.4769 - val_accuracy: 0.7995\n",
      "Epoch 20/20\n",
      "250/250 [==============================] - 28s 111ms/step - loss: 0.2512 - accuracy: 0.8940 - val_loss: 0.5005 - val_accuracy: 0.7995\n"
     ]
    },
    {
     "data": {
      "text/plain": [
       "<keras.callbacks.History at 0x295eb7fb640>"
      ]
     },
     "execution_count": 12,
     "metadata": {},
     "output_type": "execute_result"
    }
   ],
   "source": [
    "#TRAINING\n",
    "\n",
    "classifier.fit(training_set,\n",
    "                        #steps_per_epoch = 24,\n",
    "                        epochs = 20,\n",
    "                        validation_data = test_set,\n",
    "                        #validation_steps = 50\n",
    "              )"
   ]
  },
  {
   "cell_type": "code",
   "execution_count": 24,
   "id": "0d2c4d52",
   "metadata": {},
   "outputs": [
    {
     "name": "stdout",
     "output_type": "stream",
     "text": [
      "[[0.]]\n",
      "cat\n"
     ]
    }
   ],
   "source": [
    "import numpy as np\n",
    "from keras.preprocessing import image\n",
    "test_image = image.load_img('dataset/single_prediction/cat_or_dog_9.jpg', target_size = (64, 64))\n",
    "test_image = image.img_to_array(test_image)\n",
    "test_image = np.expand_dims(test_image, axis = 0)\n",
    "result = classifier.predict(test_image)\n",
    "training_set.class_indices\n",
    "print(result)\n",
    "if result[0][0] == 1:\n",
    "    prediction = 'dog'\n",
    "else:\n",
    "    prediction = 'cat'\n",
    "print(prediction)\n",
    "\n"
   ]
  },
  {
   "cell_type": "code",
   "execution_count": null,
   "id": "e2ec9aed",
   "metadata": {},
   "outputs": [],
   "source": []
  }
 ],
 "metadata": {
  "kernelspec": {
   "display_name": "Python 3 (ipykernel)",
   "language": "python",
   "name": "python3"
  },
  "language_info": {
   "codemirror_mode": {
    "name": "ipython",
    "version": 3
   },
   "file_extension": ".py",
   "mimetype": "text/x-python",
   "name": "python",
   "nbconvert_exporter": "python",
   "pygments_lexer": "ipython3",
   "version": "3.9.7"
  }
 },
 "nbformat": 4,
 "nbformat_minor": 5
}
